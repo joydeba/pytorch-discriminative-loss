{
 "cells": [
  {
   "cell_type": "code",
   "execution_count": 9,
   "metadata": {
    "ExecuteTime": {
     "end_time": "2018-05-27T04:54:35.458415Z",
     "start_time": "2018-05-27T04:54:35.299306Z"
    }
   },
   "outputs": [],
   "source": [
    "import numpy as np\n",
    "from pathlib import Path\n",
    "\n",
    "import torch\n",
    "import torch.nn as nn\n",
    "import torch.nn.functional as F\n",
    "import torch.optim as optim\n",
    "from torch.utils.data import DataLoader\n",
    "from torch.autograd import Variable"
   ]
  },
  {
   "cell_type": "code",
   "execution_count": 10,
   "metadata": {
    "ExecuteTime": {
     "end_time": "2018-05-27T04:54:35.605623Z",
     "start_time": "2018-05-27T04:54:35.459565Z"
    }
   },
   "outputs": [],
   "source": [
    "import sys\n",
    "sys.path.append('../src/')\n",
    "\n",
    "from model import UNet\n",
    "from dataset import SSSDataset\n",
    "from loss import DiscriminativeLoss"
   ]
  },
  {
   "cell_type": "code",
   "execution_count": 11,
   "metadata": {
    "ExecuteTime": {
     "end_time": "2018-05-27T04:54:35.608184Z",
     "start_time": "2018-05-27T04:54:35.606670Z"
    }
   },
   "outputs": [],
   "source": [
    "n_sticks = 8"
   ]
  },
  {
   "cell_type": "code",
   "execution_count": 12,
   "metadata": {
    "ExecuteTime": {
     "end_time": "2018-05-27T04:54:36.974833Z",
     "start_time": "2018-05-27T04:54:35.609077Z"
    }
   },
   "outputs": [],
   "source": [
    "# Model\n",
    "# model = UNet().cuda()\n",
    "model = UNet()"
   ]
  },
  {
   "cell_type": "code",
   "execution_count": 13,
   "metadata": {
    "ExecuteTime": {
     "end_time": "2018-05-27T04:54:36.978309Z",
     "start_time": "2018-05-27T04:54:36.975999Z"
    }
   },
   "outputs": [],
   "source": [
    "# Dataset for train\n",
    "train_dataset = SSSDataset(train=True, n_sticks=n_sticks)\n",
    "train_dataloader = DataLoader(train_dataset, batch_size=4,\n",
    "                              shuffle=False, num_workers=0, pin_memory=True)"
   ]
  },
  {
   "cell_type": "code",
   "execution_count": 14,
   "metadata": {
    "ExecuteTime": {
     "end_time": "2018-05-27T04:54:36.981864Z",
     "start_time": "2018-05-27T04:54:36.979448Z"
    }
   },
   "outputs": [],
   "source": [
    "# Loss Function\n",
    "# criterion_disc = DiscriminativeLoss(delta_var=0.5,\n",
    "#                                     delta_dist=1.5,\n",
    "#                                     norm=2,\n",
    "#                                     usegpu=True).cuda()\n",
    "# criterion_ce = nn.CrossEntropyLoss().cuda()\n",
    "criterion_disc = DiscriminativeLoss(delta_var=0.5,\n",
    "                                    delta_dist=1.5,\n",
    "                                    norm=2,\n",
    "                                    usegpu=True)\n",
    "criterion_ce = nn.CrossEntropyLoss()"
   ]
  },
  {
   "cell_type": "code",
   "execution_count": 15,
   "metadata": {
    "ExecuteTime": {
     "end_time": "2018-05-27T04:54:36.986508Z",
     "start_time": "2018-05-27T04:54:36.983106Z"
    }
   },
   "outputs": [],
   "source": [
    "# Optimizer\n",
    "parameters = model.parameters()\n",
    "optimizer = optim.SGD(parameters, lr=0.01, momentum=0.9, weight_decay=0.001)\n",
    "scheduler = optim.lr_scheduler.ReduceLROnPlateau(optimizer=optimizer,\n",
    "                                                 mode='min',\n",
    "                                                 factor=0.1,\n",
    "                                                 patience=10,\n",
    "                                                 verbose=True)"
   ]
  },
  {
   "cell_type": "code",
   "execution_count": 8,
   "metadata": {
    "ExecuteTime": {
     "end_time": "2018-05-27T04:54:38.403441Z",
     "start_time": "2018-05-27T04:54:36.987711Z"
    },
    "scrolled": true
   },
   "outputs": [
    {
     "output_type": "stream",
     "name": "stdout",
     "text": [
      "epoch : 0\n",
      "Batched\n",
      "Batched\n",
      "Batched\n",
      "Batched\n",
      "Batched\n",
      "Batched\n",
      "Batched\n",
      "Batched\n",
      "Batched\n",
      "Batched\n",
      "Batched\n",
      "Batched\n",
      "Batched\n",
      "Batched\n",
      "Batched\n",
      "Batched\n",
      "Batched\n",
      "Batched\n",
      "Batched\n",
      "Batched\n",
      "Batched\n",
      "Batched\n",
      "Batched\n",
      "Batched\n",
      "Batched\n",
      "Batched\n",
      "Batched\n",
      "Batched\n",
      "Batched\n",
      "Batched\n",
      "Batched\n",
      "Batched\n",
      "Batched\n",
      "Batched\n",
      "Batched\n",
      "Batched\n",
      "Batched\n",
      "Batched\n",
      "Batched\n",
      "Batched\n",
      "Batched\n",
      "Batched\n",
      "Batched\n",
      "Batched\n",
      "Batched\n",
      "Batched\n",
      "Batched\n",
      "Batched\n",
      "Batched\n",
      "Batched\n",
      "Batched\n",
      "Batched\n",
      "Batched\n",
      "Batched\n",
      "Batched\n",
      "Batched\n",
      "Batched\n",
      "Batched\n",
      "Batched\n",
      "Batched\n",
      "Batched\n",
      "Batched\n",
      "Batched\n",
      "Batched\n",
      "Batched\n",
      "Batched\n",
      "Batched\n",
      "Batched\n",
      "Batched\n",
      "Batched\n",
      "Batched\n",
      "Batched\n",
      "Batched\n",
      "Batched\n",
      "Batched\n",
      "Batched\n",
      "Batched\n",
      "Batched\n",
      "Batched\n",
      "Batched\n",
      "Batched\n",
      "Batched\n",
      "Batched\n",
      "Batched\n",
      "Batched\n",
      "Batched\n",
      "Batched\n",
      "Batched\n",
      "Batched\n",
      "Batched\n",
      "Batched\n",
      "Batched\n",
      "Batched\n",
      "Batched\n",
      "Batched\n",
      "Batched\n",
      "Batched\n",
      "Batched\n",
      "Batched\n",
      "Batched\n",
      "Batched\n",
      "Batched\n",
      "Batched\n",
      "Batched\n",
      "Batched\n",
      "Batched\n",
      "Batched\n",
      "Batched\n",
      "Batched\n",
      "Batched\n",
      "Batched\n",
      "Batched\n",
      "Batched\n",
      "Batched\n",
      "Batched\n",
      "Batched\n",
      "Batched\n",
      "Batched\n",
      "Batched\n",
      "Batched\n",
      "Batched\n",
      "Batched\n",
      "Batched\n",
      "Batched\n",
      "Batched\n",
      "Batched\n",
      "Batched\n",
      "Batched\n",
      "DiscriminativeLoss: 0.7964\n",
      "CrossEntropyLoss: 0.1691\n",
      "Best Model!\n"
     ]
    },
    {
     "output_type": "error",
     "ename": "FileNotFoundError",
     "evalue": "[Errno 2] No such file or directory: '../model/model.pth'",
     "traceback": [
      "\u001b[0;31m---------------------------------------------------------------------------\u001b[0m",
      "\u001b[0;31mFileNotFoundError\u001b[0m                         Traceback (most recent call last)",
      "\u001b[0;32m<ipython-input-8-3134e29188f2>\u001b[0m in \u001b[0;36m<module>\u001b[0;34m\u001b[0m\n\u001b[1;32m     48\u001b[0m         \u001b[0mprint\u001b[0m\u001b[0;34m(\u001b[0m\u001b[0;34m'Best Model!'\u001b[0m\u001b[0;34m)\u001b[0m\u001b[0;34m\u001b[0m\u001b[0;34m\u001b[0m\u001b[0m\n\u001b[1;32m     49\u001b[0m         \u001b[0mmodelname\u001b[0m \u001b[0;34m=\u001b[0m \u001b[0;34m'model.pth'\u001b[0m\u001b[0;34m\u001b[0m\u001b[0;34m\u001b[0m\u001b[0m\n\u001b[0;32m---> 50\u001b[0;31m         \u001b[0mtorch\u001b[0m\u001b[0;34m.\u001b[0m\u001b[0msave\u001b[0m\u001b[0;34m(\u001b[0m\u001b[0mmodel\u001b[0m\u001b[0;34m.\u001b[0m\u001b[0mstate_dict\u001b[0m\u001b[0;34m(\u001b[0m\u001b[0;34m)\u001b[0m\u001b[0;34m,\u001b[0m \u001b[0mmodel_dir\u001b[0m\u001b[0;34m.\u001b[0m\u001b[0mjoinpath\u001b[0m\u001b[0;34m(\u001b[0m\u001b[0mmodelname\u001b[0m\u001b[0;34m)\u001b[0m\u001b[0;34m)\u001b[0m\u001b[0;34m\u001b[0m\u001b[0;34m\u001b[0m\u001b[0m\n\u001b[0m",
      "\u001b[0;32m~/anaconda3/lib/python3.8/site-packages/torch/serialization.py\u001b[0m in \u001b[0;36msave\u001b[0;34m(obj, f, pickle_module, pickle_protocol, _use_new_zipfile_serialization)\u001b[0m\n\u001b[1;32m    367\u001b[0m     \u001b[0m_check_dill_version\u001b[0m\u001b[0;34m(\u001b[0m\u001b[0mpickle_module\u001b[0m\u001b[0;34m)\u001b[0m\u001b[0;34m\u001b[0m\u001b[0;34m\u001b[0m\u001b[0m\n\u001b[1;32m    368\u001b[0m \u001b[0;34m\u001b[0m\u001b[0m\n\u001b[0;32m--> 369\u001b[0;31m     \u001b[0;32mwith\u001b[0m \u001b[0m_open_file_like\u001b[0m\u001b[0;34m(\u001b[0m\u001b[0mf\u001b[0m\u001b[0;34m,\u001b[0m \u001b[0;34m'wb'\u001b[0m\u001b[0;34m)\u001b[0m \u001b[0;32mas\u001b[0m \u001b[0mopened_file\u001b[0m\u001b[0;34m:\u001b[0m\u001b[0;34m\u001b[0m\u001b[0;34m\u001b[0m\u001b[0m\n\u001b[0m\u001b[1;32m    370\u001b[0m         \u001b[0;32mif\u001b[0m \u001b[0m_use_new_zipfile_serialization\u001b[0m\u001b[0;34m:\u001b[0m\u001b[0;34m\u001b[0m\u001b[0;34m\u001b[0m\u001b[0m\n\u001b[1;32m    371\u001b[0m             \u001b[0;32mwith\u001b[0m \u001b[0m_open_zipfile_writer\u001b[0m\u001b[0;34m(\u001b[0m\u001b[0mopened_file\u001b[0m\u001b[0;34m)\u001b[0m \u001b[0;32mas\u001b[0m \u001b[0mopened_zipfile\u001b[0m\u001b[0;34m:\u001b[0m\u001b[0;34m\u001b[0m\u001b[0;34m\u001b[0m\u001b[0m\n",
      "\u001b[0;32m~/anaconda3/lib/python3.8/site-packages/torch/serialization.py\u001b[0m in \u001b[0;36m_open_file_like\u001b[0;34m(name_or_buffer, mode)\u001b[0m\n\u001b[1;32m    228\u001b[0m \u001b[0;32mdef\u001b[0m \u001b[0m_open_file_like\u001b[0m\u001b[0;34m(\u001b[0m\u001b[0mname_or_buffer\u001b[0m\u001b[0;34m,\u001b[0m \u001b[0mmode\u001b[0m\u001b[0;34m)\u001b[0m\u001b[0;34m:\u001b[0m\u001b[0;34m\u001b[0m\u001b[0;34m\u001b[0m\u001b[0m\n\u001b[1;32m    229\u001b[0m     \u001b[0;32mif\u001b[0m \u001b[0m_is_path\u001b[0m\u001b[0;34m(\u001b[0m\u001b[0mname_or_buffer\u001b[0m\u001b[0;34m)\u001b[0m\u001b[0;34m:\u001b[0m\u001b[0;34m\u001b[0m\u001b[0;34m\u001b[0m\u001b[0m\n\u001b[0;32m--> 230\u001b[0;31m         \u001b[0;32mreturn\u001b[0m \u001b[0m_open_file\u001b[0m\u001b[0;34m(\u001b[0m\u001b[0mname_or_buffer\u001b[0m\u001b[0;34m,\u001b[0m \u001b[0mmode\u001b[0m\u001b[0;34m)\u001b[0m\u001b[0;34m\u001b[0m\u001b[0;34m\u001b[0m\u001b[0m\n\u001b[0m\u001b[1;32m    231\u001b[0m     \u001b[0;32melse\u001b[0m\u001b[0;34m:\u001b[0m\u001b[0;34m\u001b[0m\u001b[0;34m\u001b[0m\u001b[0m\n\u001b[1;32m    232\u001b[0m         \u001b[0;32mif\u001b[0m \u001b[0;34m'w'\u001b[0m \u001b[0;32min\u001b[0m \u001b[0mmode\u001b[0m\u001b[0;34m:\u001b[0m\u001b[0;34m\u001b[0m\u001b[0;34m\u001b[0m\u001b[0m\n",
      "\u001b[0;32m~/anaconda3/lib/python3.8/site-packages/torch/serialization.py\u001b[0m in \u001b[0;36m__init__\u001b[0;34m(self, name, mode)\u001b[0m\n\u001b[1;32m    209\u001b[0m \u001b[0;32mclass\u001b[0m \u001b[0m_open_file\u001b[0m\u001b[0;34m(\u001b[0m\u001b[0m_opener\u001b[0m\u001b[0;34m)\u001b[0m\u001b[0;34m:\u001b[0m\u001b[0;34m\u001b[0m\u001b[0;34m\u001b[0m\u001b[0m\n\u001b[1;32m    210\u001b[0m     \u001b[0;32mdef\u001b[0m \u001b[0m__init__\u001b[0m\u001b[0;34m(\u001b[0m\u001b[0mself\u001b[0m\u001b[0;34m,\u001b[0m \u001b[0mname\u001b[0m\u001b[0;34m,\u001b[0m \u001b[0mmode\u001b[0m\u001b[0;34m)\u001b[0m\u001b[0;34m:\u001b[0m\u001b[0;34m\u001b[0m\u001b[0;34m\u001b[0m\u001b[0m\n\u001b[0;32m--> 211\u001b[0;31m         \u001b[0msuper\u001b[0m\u001b[0;34m(\u001b[0m\u001b[0m_open_file\u001b[0m\u001b[0;34m,\u001b[0m \u001b[0mself\u001b[0m\u001b[0;34m)\u001b[0m\u001b[0;34m.\u001b[0m\u001b[0m__init__\u001b[0m\u001b[0;34m(\u001b[0m\u001b[0mopen\u001b[0m\u001b[0;34m(\u001b[0m\u001b[0mname\u001b[0m\u001b[0;34m,\u001b[0m \u001b[0mmode\u001b[0m\u001b[0;34m)\u001b[0m\u001b[0;34m)\u001b[0m\u001b[0;34m\u001b[0m\u001b[0;34m\u001b[0m\u001b[0m\n\u001b[0m\u001b[1;32m    212\u001b[0m \u001b[0;34m\u001b[0m\u001b[0m\n\u001b[1;32m    213\u001b[0m     \u001b[0;32mdef\u001b[0m \u001b[0m__exit__\u001b[0m\u001b[0;34m(\u001b[0m\u001b[0mself\u001b[0m\u001b[0;34m,\u001b[0m \u001b[0;34m*\u001b[0m\u001b[0margs\u001b[0m\u001b[0;34m)\u001b[0m\u001b[0;34m:\u001b[0m\u001b[0;34m\u001b[0m\u001b[0;34m\u001b[0m\u001b[0m\n",
      "\u001b[0;31mFileNotFoundError\u001b[0m: [Errno 2] No such file or directory: '../model/model.pth'"
     ]
    }
   ],
   "source": [
    "# Train\n",
    "model_dir = Path('model')\n",
    "\n",
    "best_loss = np.inf\n",
    "for epoch in range(10): # range(300)\n",
    "    print(f'epoch : {epoch}')\n",
    "    disc_losses = []\n",
    "    ce_losses = []\n",
    "    for batched in train_dataloader:\n",
    "        print(\"Batched\")\n",
    "        images, sem_labels, ins_labels = batched\n",
    "        # images = Variable(images).cuda()\n",
    "        # sem_labels = Variable(sem_labels).cuda()\n",
    "        # ins_labels = Variable(ins_labels).cuda()\n",
    "        images = Variable(images)\n",
    "        sem_labels = Variable(sem_labels)\n",
    "        ins_labels = Variable(ins_labels)\n",
    "        model.zero_grad()\n",
    "\n",
    "        sem_predict, ins_predict = model(images)\n",
    "        loss = 0\n",
    "\n",
    "        # Discriminative Loss\n",
    "        disc_loss = criterion_disc(ins_predict,\n",
    "                                   ins_labels,\n",
    "                                   [n_sticks] * len(images))\n",
    "        loss += disc_loss\n",
    "        # import ipdb; ipdb.set_trace()\n",
    "        disc_losses.append(disc_loss.cpu().data.numpy())\n",
    "\n",
    "        # Cross Entropy Loss\n",
    "        _, sem_labels_ce = sem_labels.max(1)\n",
    "        ce_loss = criterion_ce(sem_predict.permute(0, 2, 3, 1)\\\n",
    "                                   .contiguous().view(-1, 2),\n",
    "                               sem_labels_ce.view(-1))\n",
    "        loss += ce_loss\n",
    "        ce_losses.append(ce_loss.cpu().data.numpy())\n",
    "\n",
    "        loss.backward()\n",
    "        optimizer.step()\n",
    "    disc_loss = np.mean(disc_losses)\n",
    "    ce_loss = np.mean(ce_losses)\n",
    "    print(f'DiscriminativeLoss: {disc_loss:.4f}')\n",
    "    print(f'CrossEntropyLoss: {ce_loss:.4f}')\n",
    "    scheduler.step(disc_loss)\n",
    "    if disc_loss < best_loss:\n",
    "        best_loss = disc_loss\n",
    "        print('Best Model!')\n",
    "        modelname = 'model.pth'\n",
    "        torch.save(model.state_dict(), model_dir.joinpath(modelname))"
   ]
  },
  {
   "cell_type": "code",
   "execution_count": null,
   "metadata": {},
   "outputs": [],
   "source": []
  },
  {
   "cell_type": "code",
   "execution_count": null,
   "metadata": {},
   "outputs": [],
   "source": []
  }
 ],
 "metadata": {
  "kernelspec": {
   "name": "python3",
   "display_name": "Python 3.8.3 64-bit ('base': conda)",
   "metadata": {
    "interpreter": {
     "hash": "ead85409a3df2736fa4852a03cf3afe7e5b1dbdc0e40d7d22bbcbf8cf1adf5fa"
    }
   }
  },
  "language_info": {
   "codemirror_mode": {
    "name": "ipython",
    "version": 3
   },
   "file_extension": ".py",
   "mimetype": "text/x-python",
   "name": "python",
   "nbconvert_exporter": "python",
   "pygments_lexer": "ipython3",
   "version": "3.8.3-final"
  },
  "toc": {
   "nav_menu": {},
   "number_sections": true,
   "sideBar": true,
   "skip_h1_title": false,
   "toc_cell": false,
   "toc_position": {},
   "toc_section_display": "block",
   "toc_window_display": false
  }
 },
 "nbformat": 4,
 "nbformat_minor": 2
}